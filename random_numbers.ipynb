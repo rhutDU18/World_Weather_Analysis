{
 "cells": [
  {
   "cell_type": "code",
   "execution_count": 1,
   "id": "8066c05e",
   "metadata": {},
   "outputs": [],
   "source": [
    "# Import the random module\n",
    "\n",
    "import random \n"
   ]
  },
  {
   "cell_type": "code",
   "execution_count": 6,
   "id": "68b7c8da",
   "metadata": {},
   "outputs": [
    {
     "data": {
      "text/plain": [
       "0.9607772458147729"
      ]
     },
     "execution_count": 6,
     "metadata": {},
     "output_type": "execute_result"
    }
   ],
   "source": [
    "random.random()"
   ]
  },
  {
   "cell_type": "code",
   "execution_count": 10,
   "id": "560e43a9",
   "metadata": {},
   "outputs": [
    {
     "data": {
      "text/plain": [
       "44"
      ]
     },
     "execution_count": 10,
     "metadata": {},
     "output_type": "execute_result"
    }
   ],
   "source": [
    "random.randint(-90,90)"
   ]
  },
  {
   "cell_type": "code",
   "execution_count": 9,
   "id": "d100f221",
   "metadata": {},
   "outputs": [
    {
     "data": {
      "text/plain": [
       "72"
      ]
     },
     "execution_count": 9,
     "metadata": {},
     "output_type": "execute_result"
    }
   ],
   "source": [
    "random.randrange(-90,90)"
   ]
  },
  {
   "cell_type": "code",
   "execution_count": 11,
   "id": "66ced956",
   "metadata": {},
   "outputs": [
    {
     "data": {
      "text/plain": [
       "28.835464353249115"
      ]
     },
     "execution_count": 11,
     "metadata": {},
     "output_type": "execute_result"
    }
   ],
   "source": [
    "random_number = random.randint(-90,89) + random.random()\n",
    "random_number"
   ]
  },
  {
   "cell_type": "code",
   "execution_count": 20,
   "id": "8a6c3638",
   "metadata": {},
   "outputs": [],
   "source": [
    "\n",
    "X = 1 \n",
    "latitudes = []\n",
    "while x < 11:\n",
    "    random_lat = random.randint(-90,89) + random.random()\n",
    "    latitudes.append(random_lat)\n",
    "    x += 1\n"
   ]
  },
  {
   "cell_type": "code",
   "execution_count": 23,
   "id": "0033e1a4",
   "metadata": {},
   "outputs": [
    {
     "data": {
      "text/plain": [
       "78"
      ]
     },
     "execution_count": 23,
     "metadata": {},
     "output_type": "execute_result"
    }
   ],
   "source": [
    "random.randrange(-90,90, step = 3)"
   ]
  },
  {
   "cell_type": "code",
   "execution_count": 24,
   "id": "723e601b",
   "metadata": {},
   "outputs": [
    {
     "data": {
      "text/plain": [
       "64.01669238336919"
      ]
     },
     "execution_count": 24,
     "metadata": {},
     "output_type": "execute_result"
    }
   ],
   "source": [
    "random.uniform(-90,90)"
   ]
  },
  {
   "cell_type": "code",
   "execution_count": 25,
   "id": "e2880812",
   "metadata": {},
   "outputs": [],
   "source": [
    "# Import the NumPy module.\n",
    "\n",
    "import numpy as np \n",
    "\n"
   ]
  },
  {
   "cell_type": "code",
   "execution_count": 26,
   "id": "3694bf60",
   "metadata": {},
   "outputs": [
    {
     "data": {
      "text/plain": [
       "-66.89660944820088"
      ]
     },
     "execution_count": 26,
     "metadata": {},
     "output_type": "execute_result"
    }
   ],
   "source": [
    "np.random.uniform(-90.000, 90.000)"
   ]
  },
  {
   "cell_type": "code",
   "execution_count": 30,
   "id": "b4ba35d7",
   "metadata": {},
   "outputs": [
    {
     "name": "stdout",
     "output_type": "stream",
     "text": [
      "13.2 µs ± 123 ns per loop (mean ± std. dev. of 7 runs, 100000 loops each)\n"
     ]
    },
    {
     "data": {
      "text/plain": [
       "array([-86.38803886,  -9.99241209,  59.18113898,  59.64652443,\n",
       "        79.9025214 , -36.54009025, -21.07572245,  33.87611671,\n",
       "       -53.89493276, -76.04173447,  20.71970302,  71.79532304,\n",
       "       -79.84010081, -75.91283557, -35.12614541, -25.04282033,\n",
       "        -7.37660115,   0.76673659,  82.79887024,  40.0748514 ,\n",
       "        23.17292423,  81.41903828,  56.47494061,  79.46481205,\n",
       "        36.67417458,  15.28852905,  -5.3001784 ,  10.10938791,\n",
       "        74.32880804, -66.71674873,  25.39839595,  51.33008042,\n",
       "       -61.63909929, -37.95704283,  57.44253127,  -2.03082808,\n",
       "        60.50348357, -21.91780439,  84.0318627 ,  30.25275124,\n",
       "       -43.43417515,  75.3459698 , -40.09429965,  23.4578272 ,\n",
       "       -45.23690043,  88.30465704,  74.79532648,   7.11916428,\n",
       "        64.47600985,  28.81325521])"
      ]
     },
     "execution_count": 30,
     "metadata": {},
     "output_type": "execute_result"
    }
   ],
   "source": [
    "\n",
    "%timeit np.random.uniform(-90.000, 90.000, size=1500)\n",
    "\n",
    "\n",
    "np.random.uniform(-90.000, 90.000, size=50)"
   ]
  },
  {
   "cell_type": "code",
   "execution_count": 32,
   "id": "4ee939fb",
   "metadata": {},
   "outputs": [
    {
     "name": "stdout",
     "output_type": "stream",
     "text": [
      "13.6 µs ± 366 ns per loop (mean ± std. dev. of 7 runs, 100000 loops each)\n"
     ]
    },
    {
     "data": {
      "text/plain": [
       "array([ 71.02064597,  29.59397769, -17.81805041, -64.32798816,\n",
       "        -0.22389293, -62.29866534, -79.4764483 ,  72.14235265,\n",
       "       -45.3974274 , -16.40130813, -57.47542456, -53.00414576,\n",
       "       -69.20681731,  19.76614473,  18.7237445 ,  44.01224796,\n",
       "       -69.86130417,  76.6388281 ,  -5.95977916,  82.22107665,\n",
       "        34.37980031,  29.63265267,   8.63695076,  83.0798316 ,\n",
       "         0.24841393,  67.97473995, -72.1794268 , -36.29091185,\n",
       "        34.92300905, -46.41744137,  35.53385033,  27.69466997,\n",
       "        -4.65630979, -89.51758279,  57.54282437, -22.27642245,\n",
       "        77.74517777, -36.05754207,  -1.61204066,  55.16067871,\n",
       "       -18.24919974,  25.87015248,   2.47277453, -12.13245447,\n",
       "        64.48422447, -72.99185039, -81.82208111, -12.8152496 ,\n",
       "       -33.78788175,   8.25490523])"
      ]
     },
     "execution_count": 32,
     "metadata": {},
     "output_type": "execute_result"
    }
   ],
   "source": [
    "# Import timeit.\n",
    "\n",
    "import timeit \n",
    "\n",
    "\n"
   ]
  },
  {
   "cell_type": "code",
   "execution_count": 33,
   "id": "4108bf68",
   "metadata": {},
   "outputs": [
    {
     "name": "stdout",
     "output_type": "stream",
     "text": [
      "1.54 ms ± 82 µs per loop (mean ± std. dev. of 7 runs, 1000 loops each)\n"
     ]
    }
   ],
   "source": [
    "\n",
    "\n",
    "def latitudes(size):\n",
    "    latitudes = []\n",
    "    x = 0\n",
    "    while x < (size):\n",
    "        random_lat = random.randint(-90,90) + random.random()\n",
    "        latitudes.append(random_lat)\n",
    "        x += 1\n",
    "    return latitudes \n",
    "\n",
    "# Call the Function \n",
    "\n",
    "%timeit latitudes(1500)\n",
    "\n",
    "\n",
    "\n",
    "\n",
    "\n",
    "\n",
    "\n",
    "\n",
    "\n",
    "\n",
    "\n",
    "\n",
    "\n",
    "\n",
    "\n",
    "\n",
    "\n"
   ]
  },
  {
   "cell_type": "code",
   "execution_count": 41,
   "id": "ff348443",
   "metadata": {},
   "outputs": [
    {
     "name": "stdout",
     "output_type": "stream",
     "text": [
      "2.79 ms ± 745 µs per loop (mean ± std. dev. of 7 runs, 100 loops each)\n"
     ]
    }
   ],
   "source": [
    "# Practice, refractor the code for the while loop with %timeit command to make a loop that will generate 1500 latitudes\n",
    "\n",
    "\n",
    "def latitudes(size):\n",
    "    latitudes = []\n",
    "    x = 0\n",
    "    for x in range(1500):\n",
    "        random_lat = random.randint(-90,90) + random.random()\n",
    "        latitudes.append(random_lat)\n",
    "        x += 1\n",
    "    return latitudes \n",
    "\n",
    "# Call the Function \n",
    "\n",
    "%timeit latitudes(1500)\n",
    "\n",
    "\n",
    "\n",
    "\n"
   ]
  },
  {
   "cell_type": "code",
   "execution_count": null,
   "id": "0b3f90a6",
   "metadata": {},
   "outputs": [],
   "source": []
  }
 ],
 "metadata": {
  "kernelspec": {
   "display_name": "Python 3 (ipykernel)",
   "language": "python",
   "name": "python3"
  },
  "language_info": {
   "codemirror_mode": {
    "name": "ipython",
    "version": 3
   },
   "file_extension": ".py",
   "mimetype": "text/x-python",
   "name": "python",
   "nbconvert_exporter": "python",
   "pygments_lexer": "ipython3",
   "version": "3.9.7"
  }
 },
 "nbformat": 4,
 "nbformat_minor": 5
}
